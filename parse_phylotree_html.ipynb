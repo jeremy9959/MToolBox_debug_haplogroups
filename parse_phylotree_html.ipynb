{
 "cells": [
  {
   "cell_type": "code",
   "execution_count": 1,
   "metadata": {
    "collapsed": true
   },
   "outputs": [],
   "source": [
    "from bs4 import BeautifulSoup\n",
    "import pandas as pd\n",
    "#import urllib2\n",
    "import csv"
   ]
  },
  {
   "cell_type": "code",
   "execution_count": 2,
   "metadata": {
    "collapsed": true
   },
   "outputs": [],
   "source": [
    "def assignNoLabelStatus(s):\n",
    "    status = \"Label\"\n",
    "    s = s.strip(',').split(',')\n",
    "    t = s[0]\n",
    "    if len(t) > 1:\n",
    "        # case to discard, eg C123G\n",
    "        if t[0] in list('ACGT') and t[-1] in list('ACGT'):\n",
    "            status = \"NoLabel\"\n",
    "        # case to discard, eg C123G!\n",
    "        elif t[0] in list('ACGT') and t[-1] == \"!\":\n",
    "            status = \"NoLabel\"\n",
    "        elif t[0].isalpha() == False:\n",
    "            status = \"NoLabel\"\n",
    "        # This last case replaces the next ones\n",
    "        # case to discard, eg deletion 8123-8234d\n",
    "        #elif t[0].isdigit() and t[-1] == \"d\":\n",
    "        #    status = \"NoLabel\"\n",
    "        # eg (C64T)\n",
    "        #elif t[0] == \"(\":\n",
    "        #    status = \"NoLabel\"\n",
    "    return status\n",
    "\n",
    "def checkIfAC(s):\n",
    "    if len(s) > 0:\n",
    "        if s[0].isalpha() and s[-1].isdigit():\n",
    "            return True\n",
    "        else:\n",
    "            return False\n",
    "    else:\n",
    "        return False"
   ]
  },
  {
   "cell_type": "code",
   "execution_count": 3,
   "metadata": {
    "collapsed": false
   },
   "outputs": [],
   "source": [
    "#url = 'http://www.data.jma.go.jp/obd/stats/etrn/view/monthly_s3_en.php?block_no=47401&view=1'\n",
    "#html = urllib2.urlopen(url).read()\n",
    "html = open('mtDNA_tree_Build_17.onlytable.htm', 'r').read()\n",
    "#print(repr(html))"
   ]
  },
  {
   "cell_type": "code",
   "execution_count": 4,
   "metadata": {
    "collapsed": false
   },
   "outputs": [],
   "source": [
    "soup = BeautifulSoup(html, 'lxml')"
   ]
  },
  {
   "cell_type": "code",
   "execution_count": 5,
   "metadata": {
    "collapsed": true
   },
   "outputs": [],
   "source": [
    "table = soup.find_all(\"table\")[0]"
   ]
  },
  {
   "cell_type": "code",
   "execution_count": 6,
   "metadata": {
    "collapsed": true
   },
   "outputs": [],
   "source": [
    "rows = table.find_all(\"tr\")"
   ]
  },
  {
   "cell_type": "code",
   "execution_count": 8,
   "metadata": {
    "collapsed": true
   },
   "outputs": [],
   "source": [
    "# col_normal = rows[6]"
   ]
  },
  {
   "cell_type": "code",
   "execution_count": 9,
   "metadata": {
    "collapsed": false
   },
   "outputs": [
    {
     "name": "stdout",
     "output_type": "stream",
     "text": [
      "L0,G263A,C1048T,C3516a,T5442C,T6185C,C9042T,A9347G,G10589A,G12007A,A12720G,,,,,,,,,,,,,,,,,,,\n",
      ",,,,,,,,L0a1a,(C64T),T3866C,,,,,,,,,,,,,,,EU092665,EU092764,\n",
      ",,,,,,,,,NoLabel,A200G\n",
      ",,,,,,,,NoLabel,A16293G\n",
      ",,,,,,NoLabel,C152T\n",
      ",,,,,NoLabel,A189G\n",
      ",,,,,,,,NoLabel,T198C!\n",
      ",,,,,,,,NoLabel,T16189C!,(C16192T)\n",
      ",,,,,,,,,,NoLabel,G143A\n",
      ",,,,,,,,NoLabel,G143A\n",
      ",,,,,,,,,,NoLabel,T16086C\n",
      ",,,,,,,,,,NoLabel,G16129A!\n",
      ",,,,,,,,,NoLabel,G16309A!\n",
      ",,,,,,,,,NoLabel,T16189C!,(C16192T)\n",
      ",,,,,,,,,,NoLabel,G16309A!\n",
      ",,,,,,,NoLabel,G16129A!\n",
      ",,,,,,,NoLabel,G709A\n",
      ",,,,,,,,,,NoLabel,T152C!\n",
      ",,,,,,,,,,NoLabel,C16124T!\n",
      ",,,,,,,,,,NoLabel,C16292T\n",
      ",,,,,,,,,,,NoLabel,C150T\n",
      ",,,,,,,,,,NoLabel,T152C!\n",
      ",,,,,,,,,,NoLabel,T195C!\n",
      ",,,,,,,,,NoLabel,T16311C!\n",
      ",,,,,,,,,,,NoLabel,T16093C\n",
      ",,,,,,,,,,,,NoLabel,G207A\n",
      ",,,,,,,,,,,,,,NoLabel,T16093C\n",
      ",,,,,,,,,,NoLabel,T204C\n",
      ",,,,,,,,,NoLabel,T152C!\n",
      ",,,,,,,,NoLabel,T16311C!\n",
      ",,,,,,,,,,,NoLabel,C16311T!!\n",
      ",,,,,,,,,,NoLabel,T195C!\n",
      ",,,,,,,,,,NoLabel,T199C\n",
      ",,,,,,,,,NoLabel,C16234T\n",
      ",,,,,,,,,NoLabel,T152C!\n",
      ",,,,,,,,,,NoLabel,C151T\n",
      ",,,,,,,,,NoLabel,T16311C!\n",
      ",,,,,,,,,NoLabel,T16324C\n",
      ",,,,,,,,,,,,,NoLabel,(C16192T)\n",
      ",,,,,,,,,,,NoLabel,T152C!\n",
      ",,,,,,,,,,,,NoLabel,T16311C!\n",
      ",,,,,,,,,,,,NoLabel,T195C!\n",
      ",,,,,,,,,,,,NoLabel,C194T\n",
      ",,,,,,,,,,,,,,,NoLabel,T195C!\n",
      ",,,,,,,,,,,NoLabel,T152C!\n",
      ",,,,,,,,,,,,NoLabel,T16093C\n",
      ",,,,,,,,,,,NoLabel,T16093C\n",
      ",,,,,,,,,,,,,NoLabel,C16234T\n",
      ",,,,,,,,,,,NoLabel,A16051G\n",
      ",,,,,,,,,,NoLabel,T152C!\n",
      ",,,,,,,,,,,,NoLabel,G709A\n",
      ",,,,,,,,,,,,NoLabel,C150T\n",
      ",,,,,,,,,,,,NoLabel,(C16261T)\n",
      ",,,,,,,,,,NoLabel,G16129A!\n",
      ",,,,,,,,NoLabel,A200G\n",
      ",,,,,,,,,,,NoLabel,G16129A!\n",
      ",,,,,,,,,,,,,NoLabel,T16189C!\n",
      ",,,,,,,,,,,,,,NoLabel,A16194G\n",
      ",,,,,,,,,,,,NoLabel,T152C!\n",
      ",,,,,,,,,,,,,NoLabel,T152C!\n",
      ",,,,,,,,NoLabel,T16362C\n",
      ",,,,,,,,,NoLabel,A210G\n",
      ",,,,,,,,,NoLabel,T204C\n",
      ",,,,,,,,,,,NoLabel,T16223C\n",
      ",,,,,,,,,,,NoLabel,C61T,G62A\n",
      ",,,,,,,,NoLabel,T16362C\n",
      ",,,,,,,,,NoLabel,T152C!\n",
      ",,,,,,,,NoLabel,T199C\n",
      ",,,,,,,,,,NoLabel,T16304C\n",
      ",,,,,,,,,,NoLabel,T204C\n",
      ",,,,,,,,NoLabel,C151T\n",
      ",,,,,,,,,,,,NoLabel,T16189C!\n",
      ",,,,,,,,,,,,NoLabel,T16189C!\n",
      ",,,,,,,,,,,NoLabel,C16294T\n",
      ",,,,,,,,,,,,,,NoLabel,T146C!\n",
      ",,,,,,,,,,,,,NoLabel,C152T!!\n",
      ",,,,,,,,,,,NoLabel,T16311C!\n",
      ",,,,,,,,,,,NoLabel,T146C!\n",
      ",,,,,,,,,,,NoLabel,(C16286T)\n",
      ",,,,,,,,,,NoLabel,T195C!\n",
      ",,,,,,,,,NoLabel,T16189C!\n",
      ",,,,,,,,,,,,,,,NoLabel,T16092C\n",
      ",,,,,,,,,,,,,,,,,NoLabel,C16172T!\n",
      ",,,,,,,,,,,,NoLabel,T16311C!\n",
      ",,,,,,,,,,,,,NoLabel,T152C!\n",
      ",,,,,,,,,,,,,,,,,NoLabel,T16086C\n",
      ",,,,,,,,,,,,NoLabel,G16129A!\n",
      ",,,,,,,,,,,,NoLabel,T195C!\n",
      ",,,,,,,,,,NoLabel,T119C\n",
      ",,,,,,,,,NoLabel,C194T\n",
      ",,,,,,,,,,,,,NoLabel,T199C\n",
      ",,,,,,,,,,NoLabel,T16311C!\n",
      ",,,,,,,,,,,NoLabel,T16189C!\n",
      ",,,,,,,,NoLabel,T195C!\n",
      ",,,,,,,,NoLabel,T152C!\n",
      ",,,,,,,,,NoLabel,T16362C\n",
      ",,,,,,,,,,,NoLabel,(C64T)\n",
      ",,,,,,,,,,,,NoLabel,G153A!\n",
      ",,,,,,,,,,,,NoLabel,T16111C!\n",
      ",,,,,,,,,,,,NoLabel,G16129A!\n",
      ",,,,,,,,,,,,,,NoLabel,T152C!!!\n",
      ",,,,,,,,,,,,NoLabel,T16189C!\n",
      ",,,,,,,,,,NoLabel,T16189C!\n",
      ",,,,,,,,,,NoLabel,A200G\n",
      ",,,,,,,,,,NoLabel,C16234T\n",
      ",,,,,,,,NoLabel,T152C!\n",
      ",,,,,,,,,,NoLabel,G225A\n",
      ",,,,,,,,,,,,,NoLabel,T226C\n",
      ",,,,,,,,,,,,,,NoLabel,C16192T\n",
      ",,,,,,,,,,,NoLabel,G153A!\n",
      ",,,,,,,,,,,NoLabel,T16223C\n",
      ",,,,,,,,,,,,NoLabel,A225G!\n",
      ",,,,,,,,,,,,NoLabel,T152C!\n",
      ",,,,,,,,,,,NoLabel,60.1T\n",
      ",,,,,,,,,,,,,,NoLabel,T195C!\n",
      ",,,,,,,,,,,,,NoLabel,C150T\n",
      ",,,,,,,,,,,,,NoLabel,C16298T!\n",
      ",,,,,,,,,,,,,NoLabel,C72T!\n",
      ",,,,,,,,,,,NoLabel,T195C!\n",
      ",,,,,,,,,,,,,NoLabel,T152C!\n",
      ",,,,,,,,,,NoLabel,A73G!\n",
      ",,,,,,,,,,,,,NoLabel,C16291T\n",
      ",,,,,,,,,,NoLabel,T16311C!\n",
      ",,,,,,,,,,,,NoLabel,T152C!\n",
      ",,,,,,,,,,,,NoLabel,T16189C!\n",
      ",,,,,,,,,,,,,,,NoLabel,T16362C\n",
      ",,,,,,,,,,,,,,NoLabel,T16093C\n",
      ",,,,,,,,,,,,,,NoLabel,T16093C\n",
      ",,,,,,,,,,,,,NoLabel,T152C!\n",
      ",,,,,,,,,,,,,,,NoLabel,C16278T!\n",
      ",,,,,,,,,,,,,NoLabel,G16129A!\n",
      ",,,,,,,,,,,,NoLabel,T152C!\n",
      ",,,,,,,,,,,,,NoLabel,T146C!\n",
      ",,,,,,,,,,,,,,NoLabel,T195C!\n",
      ",,,,,,,,,,,,NoLabel,C16355T\n",
      ",,,,,,,,,,,,NoLabel,C16278T!\n",
      ",,,,,,,,,,,,NoLabel,C16239T\n",
      ",,,,,,,,,,,,NoLabel,T16311C!\n",
      ",,,,,,,,,,,,,,NoLabel,T146C!\n",
      ",,,,,,,,,,,,,,NoLabel,(A16235G)\n",
      ",,,,,,,,,,,,NoLabel,T152C!,T16311C!\n",
      ",,,,,,,,,,,,NoLabel,T152C!\n",
      ",,,,,,,,,,,,,NoLabel,G16129A!\n",
      ",,,,,,,,,,,,NoLabel,A73G!\n",
      ",,,,,,,,,,,,NoLabel,T16311C!\n",
      ",,,,,,,,,,,,,NoLabel,T16093C\n",
      ",,,,,,,,,,,,NoLabel,T16189C!\n",
      ",,,,,,,,,,,,,,,NoLabel,T195C!\n",
      ",,,,,,,,,,,,,,,NoLabel,T152C!\n",
      ",,,,,,,,,,,,,,,NoLabel,T16093C\n",
      ",,,,,,,,,,,,,,,,NoLabel,T152C!\n",
      ",,,,,,,,,,,,,,NoLabel,T152C!\n",
      ",,,,,,,,,,,,,NoLabel,C16192T\n",
      ",,,,,,,,,,,,,NoLabel,T16311C!\n",
      ",,,,,,,,,,,,,NoLabel,G709A\n",
      ",,,,,,,,,,,NoLabel,T195C!\n",
      ",,,,,,,,,,,,NoLabel,T146C!\n",
      ",,,,,,,,,,,,,,NoLabel,(C114T)\n",
      ",,,,,,,,,,,,,,,NoLabel,T152C!\n",
      ",,,,,,,,,,,,,,NoLabel,T152C!\n",
      ",,,,,,,,,,,NoLabel,T152C!\n",
      ",,,,,,,,,,,,NoLabel,(T16093C)\n",
      ",,,,,,,,,,,,,,,,NoLabel,T16311C!\n",
      ",,,,,,,,,,,,,,NoLabel,T152C!\n",
      ",,,,,,,,,,,,,,NoLabel,A200G\n",
      ",,,,,,,,,,,,,NoLabel,T146C!\n",
      ",,,,,,,,,,,,NoLabel,T152C!\n",
      ",,,,,,,,,,,NoLabel,G16129A!\n",
      ",,,,,,,,,,,,,NoLabel,T16093C\n",
      ",,,,,,,,,,,NoLabel,G13708A\n",
      ",,,,,,,,,,,NoLabel,C16291T\n",
      ",,,,,,,,,,,,NoLabel,A153G\n",
      ",,,,,,,,,,NoLabel,T13500C\n",
      ",,,,,,,,,,,NoLabel,T195C!\n",
      ",,,,,,,,,,,,,,,,NoLabel,T146C!\n",
      ",,,,,,,,,,,,,,NoLabel,A189G\n",
      ",,,,,,,,,,,,,NoLabel,C16261T\n",
      ",,,,,,,,,,,,,,NoLabel,A189G\n",
      ",,,,,,,,,,,,NoLabel,C16193T\n",
      ",,,,,,,,,,,,,,,,NoLabel,T16311C!\n",
      ",,,,,,,,,,,,,,,NoLabel,T16311C!\n",
      ",,,,,,,,,,,,,NoLabel,T152C!\n",
      ",,,,,,,,,,,,,,,,NoLabel,C152T!!\n",
      ",,,,,,,,,,,,,NoLabel,T195C!\n",
      ",,,,,,,,,,,,,,NoLabel,C151T\n",
      ",,,,,,,,,,,,,,NoLabel,T152C!\n",
      ",,,,,,,,,,,,,,NoLabel,T146C!\n",
      ",,,,,,,,,,,,,NoLabel,C150T\n",
      ",,,,,,,,,,,,,NoLabel,T16362C\n",
      ",,,,,,,,,,,,,NoLabel,T152C!\n",
      ",,,,,,,,,,,,,,NoLabel,T146C!\n",
      ",,,,,,,,,,,,,,,,NoLabel,T152C!\n",
      ",,,,,,,,,,,,NoLabel,C150T\n",
      ",,,,,,,,,,,,,,NoLabel,T152C!\n",
      ",,,,,,,,,,,,NoLabel,T16189C!\n",
      ",,,,,,,,,NoLabel,G16129A!\n",
      ",,,,,,,,,,,NoLabel,T16093C\n",
      ",,,,,,,,,,,,,,NoLabel,T16311C!\n",
      ",,,,,,,,,,,NoLabel,T16189C!\n",
      ",,,,,,,,,,,,,,NoLabel,C152T!!\n",
      ",,,,,,,,,,,NoLabel,C16291T\n",
      ",,,,,,,,,,,,,NoLabel,T16291C!\n",
      ",,,,,,,,,,,NoLabel,T195C!\n",
      ",,,,,,,,,,,,NoLabel,G207A\n",
      ",,,,,,,,,,,,NoLabel,T152C!\n",
      ",,,,,,,,,,,,,,,NoLabel,T16093C\n",
      ",,,,,,,,NoLabel,T16189C!\n",
      ",,,,,,,,,,,NoLabel,C16261T\n",
      ",,,,,,,,,,,,,,,,,NoLabel,T195C!\n",
      ",,,,,,,,,,,,,,,,NoLabel,C151T\n",
      ",,,,,,,,,,,,,,,,NoLabel,T152C!\n",
      ",,,,,,,,,,,,,,,,NoLabel,T16126C\n",
      ",,,,,,,,,,,,,,NoLabel,T16311C!\n",
      ",,,,,,,,,,,,,,,NoLabel,T146C!\n",
      ",,,,,,,,,,,,,,,NoLabel,T152C!\n",
      ",,,,,,,,,,,,,,NoLabel,C16278T!\n",
      ",,,,,,,,,,,,,,,NoLabel,G207A\n",
      ",,,,,,,,,,,,,,,NoLabel,A16335G\n",
      ",,,,,,,,,,,,,,NoLabel,T16311C!\n",
      ",,,,,,,,,,,,,,,NoLabel,G16129A!\n",
      ",,,,,,,,,,,,,NoLabel,C204T!\n",
      ",,,,,,,,,NoLabel,C16176T\n",
      ",,,,,,,,,,,NoLabel,T152C!\n",
      ",,,,,,,,,,,,,NoLabel,G16129A!\n",
      ",,,,,,,,,,,,,NoLabel,T16192C!\n",
      ",,,,,,,,,,,,,,,,NoLabel,T152C!\n",
      ",,,,,,,,,,,,,,,,NoLabel,T16362C\n",
      ",,,,,,,,,,,,,,,,NoLabel,T16093C\n",
      ",,,,,,,,,,,,,,NoLabel,T16362C\n",
      ",,,,,,,,,,,,,NoLabel,C16294T\n",
      ",,,,,,,,,,,,,,,,NoLabel,T152C!\n",
      ",,,,,,,,,,,,,NoLabel,T16362C\n",
      ",,,,,,,,,,,,,NoLabel,T16189C!\n",
      ",,,,,,,,,,,,,,,,NoLabel,T16192C!\n",
      ",,,,,,,,,,,,,,,,NoLabel,T152C!\n",
      ",,,,,,,,,,,,,,NoLabel,T16192C!\n",
      ",,,,,,,,,,,,,,,,NoLabel,T16311C!\n",
      ",,,,,,,,,,,,,,NoLabel,T16192C!\n",
      ",,,,,,,,,,,,NoLabel,T16189C!\n",
      ",,,,,,,,,,,,,NoLabel,(G103A)\n",
      ",,,,,,,,,,,,,,,NoLabel,T195C!\n",
      ",,,,,,,,,,,,,,NoLabel,G185A\n",
      ",,,,,,,,,,,,,,,NoLabel,C152T!!\n",
      ",,,,,,,,,,,NoLabel,T16311C!\n",
      ",,,,,,,,,,,NoLabel,T152C!\n",
      ",,,,,,,,,,,,,,NoLabel,T146C!,T152C!\n",
      ",,,,,,,,,,,,,,,,,NoLabel,T16311C!\n",
      ",,,,,,,,,,,,,,,,NoLabel,T16311C!\n",
      ",,,,,,,,,,,,,,,,,,,,NoLabel,T195C!\n",
      ",,,,,,,,,,,,,,,,,NoLabel,T146C!\n",
      ",,,,,,,,,,,,,,,,NoLabel,T195C!\n",
      ",,,,,,,,,,,,,,,,NoLabel,C150T\n",
      ",,,,,,,,,,,,,,,,,NoLabel,(T16093C)\n",
      ",,,,,,,,,,,,,,,,,,,,NoLabel,T199C\n",
      ",,,,,,,,,,,,,,,NoLabel,T16362C\n"
     ]
    }
   ],
   "source": [
    "csv_list = []\n",
    "o = open('phylotree_17_190121.csv', 'w')\n",
    "for row in rows:\n",
    "    s = \"\"\n",
    "    columns = row.find_all('td')\n",
    "    for column in columns:\n",
    "        column_text = ','.join(column.get_text().split())\n",
    "        s += \"{},\".format(column_text)\n",
    "        s = s.replace(\"\\A0\", \"\")\n",
    "    if s.strip(',') != \"\":\n",
    "        #print(s)\n",
    "        #print(s.rstrip(','))\n",
    "        s_list = s.rstrip(',').split(',')#[:-1]\n",
    "        #print(s_list)\n",
    "        # Check if it's a NoLabel\n",
    "        for x,i in enumerate(s_list):\n",
    "            if i != \"\":\n",
    "                if i == 'L0a1a' or i == \"L0\":\n",
    "                    print(s)\n",
    "                status = assignNoLabelStatus(s)\n",
    "                if status == \"NoLabel\":\n",
    "                    #print(\"Found NoLabel at {}\".format(','.join(s_list)))\n",
    "                    s_list[x-1] = status\n",
    "                    break\n",
    "        # Delete ACs at the end\n",
    "        #print(s_list)\n",
    "        #try:\n",
    "        while checkIfAC(s_list[-1]) == True:\n",
    "            #print(\"Gonna reduce this: {}\".format(s_list))\n",
    "            s_list = s_list[:-1]\n",
    "        while s_list[-1] == \"\":\n",
    "            s_list = s_list[:-1]\n",
    "        #except:\n",
    "#            print(\"Error for:\\n{}\".format(s_list))\n",
    "            #print(s_list)\n",
    "        s = ','.join(s_list)\n",
    "        if status == \"NoLabel\":\n",
    "            print s\n",
    "        csv_list.append(s)\n",
    "        o.write(s+\"\\n\")\n",
    "o.close()"
   ]
  },
  {
   "cell_type": "code",
   "execution_count": null,
   "metadata": {
    "collapsed": true
   },
   "outputs": [],
   "source": [
    "\n"
   ]
  },
  {
   "cell_type": "code",
   "execution_count": 10,
   "metadata": {
    "collapsed": true
   },
   "outputs": [],
   "source": [
    "it = 'phylotree_17_190121.csv'"
   ]
  },
  {
   "cell_type": "code",
   "execution_count": 11,
   "metadata": {
    "collapsed": true
   },
   "outputs": [],
   "source": [
    "ot = 'phylotree_17_190127.csv'"
   ]
  },
  {
   "cell_type": "code",
   "execution_count": 12,
   "metadata": {
    "collapsed": false
   },
   "outputs": [],
   "source": [
    "f = open(it,'r')\n",
    "f = f.readlines()\n",
    "o = open(ot,'w')"
   ]
  },
  {
   "cell_type": "code",
   "execution_count": 13,
   "metadata": {
    "collapsed": false
   },
   "outputs": [],
   "source": [
    "dic_h = {}\n",
    "c = 0\n",
    "for branch in f:\n",
    "\tbranch = branch.split(',')\n",
    "\tdic_h[c]=''\n",
    "\tfor x in xrange(len(branch)):\n",
    "\t\tif branch[x] == '':\n",
    "\t\t\tpass\n",
    "\t\telse:\n",
    "\t\t\tif branch[x] != \"NoLabel\" and branch[x][0].isupper():\n",
    "\t\t\t\tdic_h[c] = (x,branch[x])\n",
    "\t\t\t\t#print dic_h[c],c,branch\n",
    "\t\t\t\tnew_line = map(lambda x:str(x),branch)\n",
    "\t\t\t\tnew_line = ','.join(new_line).strip()\n",
    "\t\t\t\to.write(new_line+'\\n')\n",
    "\t\t\t\tbreak\n",
    "\t\t\telif branch[x] == \"NoLabel\":\n",
    "\t\t\t\t#print 'Here is the problem',c,x\n",
    "\t\t\t\tz = c-1\n",
    "\t\t\t\twhile z > 0:\n",
    "\t\t\t\t\t#print dic_h[z],z,branch[x],x\n",
    "\t\t\t\t\tif dic_h[z][0] < x:\n",
    "\t\t\t\t\t\tdistance = str(c-z)\n",
    "\t\t\t\t\t\t#print \"distance\",distance\n",
    "\t\t\t\t\t\tnew_label = dic_h[z][1]+\"_\"+str(branch[x+1]).strip()\n",
    "\t\t\t\t\t\tdic_h[c] = (x,new_label)\n",
    "\t\t\t\t\t\tbranch[x] = new_label\n",
    "\t\t\t\t\t\tnew_line = map(lambda x:str(x),branch)\n",
    "\t\t\t\t\t\tnew_line = ','.join(new_line).strip()\n",
    "\t\t\t\t\t\tbreak\n",
    "\t\t\t\t\t\to.write(new_line+'\\n')\n",
    "\t\t\t\t\telse:\n",
    "\t\t\t\t\t\tz = z-1\n",
    "\n",
    "\t\t\telse:\n",
    "\t\t\t\tpass\n",
    "\tc += 1"
   ]
  },
  {
   "cell_type": "code",
   "execution_count": 14,
   "metadata": {
    "collapsed": false
   },
   "outputs": [],
   "source": [
    "o.close()"
   ]
  },
  {
   "cell_type": "code",
   "execution_count": 15,
   "metadata": {
    "collapsed": true
   },
   "outputs": [],
   "source": [
    "import getopt, sys, re, os, glob, csv\n",
    "from classifier import tree, NGclassify, consts, datatypes, parse_mhcs\n",
    "from bioinf.seqs import SeqList\n",
    "import io_modules.csv\n",
    "import io_modules.old_table\n",
    "import io_modules.serialize\n",
    "import pandas as pd\n",
    "import os.path\n",
    "sys.setrecursionlimit(100000)"
   ]
  },
  {
   "cell_type": "code",
   "execution_count": 16,
   "metadata": {
    "collapsed": false
   },
   "outputs": [],
   "source": [
    "csvfile = 'phylotree_17_190127.csv'\n",
    "out_fname = 'haplogroups'"
   ]
  },
  {
   "cell_type": "code",
   "execution_count": 17,
   "metadata": {
    "collapsed": false
   },
   "outputs": [
    {
     "name": "stdout",
     "output_type": "stream",
     "text": [
      "parent level after,  [None]\n",
      "level is  0\n"
     ]
    },
    {
     "ename": "UnboundLocalError",
     "evalue": "local variable 'value' referenced before assignment",
     "output_type": "error",
     "traceback": [
      "\u001b[0;31m---------------------------------------------------------------------------\u001b[0m",
      "\u001b[0;31mUnboundLocalError\u001b[0m                         Traceback (most recent call last)",
      "\u001b[0;32m<ipython-input-17-bdb9ed8d926b>\u001b[0m in \u001b[0;36m<module>\u001b[0;34m()\u001b[0m\n\u001b[1;32m      3\u001b[0m \u001b[0;34m\u001b[0m\u001b[0m\n\u001b[1;32m      4\u001b[0m \u001b[0mpickle_fname\u001b[0m \u001b[0;34m=\u001b[0m \u001b[0mcsvfile\u001b[0m \u001b[0;34m+\u001b[0m \u001b[0;34m'.pickle'\u001b[0m\u001b[0;34m\u001b[0m\u001b[0m\n\u001b[0;32m----> 5\u001b[0;31m \u001b[0maplo_list\u001b[0m \u001b[0;34m=\u001b[0m \u001b[0mio_modules\u001b[0m\u001b[0;34m.\u001b[0m\u001b[0mcsv\u001b[0m\u001b[0;34m.\u001b[0m\u001b[0mparse_csv\u001b[0m\u001b[0;34m(\u001b[0m\u001b[0mtree_file\u001b[0m\u001b[0;34m)\u001b[0m\u001b[0;34m\u001b[0m\u001b[0m\n\u001b[0m\u001b[1;32m      6\u001b[0m \u001b[0mhtree\u001b[0m \u001b[0;34m=\u001b[0m \u001b[0mtree\u001b[0m\u001b[0;34m.\u001b[0m\u001b[0mHaplogroupTree\u001b[0m\u001b[0;34m(\u001b[0m\u001b[0maplo_list\u001b[0m\u001b[0;34m=\u001b[0m\u001b[0maplo_list\u001b[0m\u001b[0;34m)\u001b[0m\u001b[0;34m\u001b[0m\u001b[0m\n\u001b[1;32m      7\u001b[0m \u001b[0mpickle_file\u001b[0m \u001b[0;34m=\u001b[0m \u001b[0mopen\u001b[0m\u001b[0;34m(\u001b[0m\u001b[0mpickle_fname\u001b[0m\u001b[0;34m,\u001b[0m \u001b[0;34m'wb'\u001b[0m\u001b[0;34m)\u001b[0m\u001b[0;34m\u001b[0m\u001b[0m\n",
      "\u001b[0;32m/Users/Claudia/Documents/mitochondria/MToolBox_updates/MToolBox_debug/MToolBox_debug_haplogroups/io_modules/csv.py\u001b[0m in \u001b[0;36mparse_csv\u001b[0;34m(file_handle, aplo_list, parent)\u001b[0m\n\u001b[1;32m     73\u001b[0m             \u001b[0;32mprint\u001b[0m \u001b[0;34m\"parent level after, \"\u001b[0m\u001b[0;34m,\u001b[0m \u001b[0mparent_level\u001b[0m\u001b[0;34m\u001b[0m\u001b[0m\n\u001b[1;32m     74\u001b[0m             \u001b[0;32mprint\u001b[0m \u001b[0;34m\"level is \"\u001b[0m\u001b[0;34m,\u001b[0m \u001b[0mlevel\u001b[0m\u001b[0;34m\u001b[0m\u001b[0m\n\u001b[0;32m---> 75\u001b[0;31m             \u001b[0;32mprint\u001b[0m \u001b[0mvalue\u001b[0m\u001b[0;34m\u001b[0m\u001b[0m\n\u001b[0m\u001b[1;32m     76\u001b[0m             \u001b[0;32mprint\u001b[0m \u001b[0;34m\"ERROR: Più di un valore per campo alla riga:\"\u001b[0m\u001b[0;34m,\u001b[0m \u001b[0mn\u001b[0m\u001b[0;34m+\u001b[0m\u001b[0;36m1\u001b[0m\u001b[0;34m,\u001b[0m \u001b[0;34m\"oppure un aprogruppo contiene sia * che ' o -\"\u001b[0m\u001b[0;34m,\u001b[0m \u001b[0me\u001b[0m\u001b[0;34m.\u001b[0m\u001b[0margs\u001b[0m\u001b[0;34m,\u001b[0m \u001b[0mline\u001b[0m\u001b[0;34m\u001b[0m\u001b[0m\n\u001b[1;32m     77\u001b[0m             \u001b[0;31m#sys.exit(2)\u001b[0m\u001b[0;34m\u001b[0m\u001b[0;34m\u001b[0m\u001b[0m\n",
      "\u001b[0;31mUnboundLocalError\u001b[0m: local variable 'value' referenced before assignment"
     ]
    }
   ],
   "source": [
    "#write pickle file for MToolBox\n",
    "tree_file = csv.reader(open(csvfile, 'rb'))\n",
    "\n",
    "pickle_fname = csvfile + '.pickle'\n",
    "aplo_list = io_modules.csv.parse_csv(tree_file)\n",
    "htree = tree.HaplogroupTree(aplo_list=aplo_list)\n",
    "pickle_file = open(pickle_fname, 'wb')\n",
    "pickle_file.write(htree.serialize())\n",
    "pickle_file.close()\n",
    "#write out alleles and haplogroups defined for HmtDB in csv file\n",
    "pickle_file = pickle_fname\n",
    "out_file = out_fname + '.csv'\n",
    "htree = tree.HaplogroupTree(pickle_data=open(pickle_file, 'rb').read())\n",
    "fh = csv.writer(open(out_file, 'wb'))\n",
    "for haplo_name in htree:\n",
    "\tio_modules.old_table.write_haplogroup(fh, '', htree[haplo_name])\n",
    "\n",
    "#write haplogrups.txt tab delimited file for MToolBox\n",
    "out_file2 = out_fname + '.txt'\n",
    "hap_file = pd.read_csv(out_file,sep=',',header=None)\n",
    "subset = hap_file[[0,1,3]]\n",
    "subset.dropna(inplace=True)\n",
    "alleles = subset[1].astype(str).str.cat(subset[3])\n",
    "subset.insert(1,'Allele',alleles)\n",
    "subset = subset[[0,'Allele']]\n",
    "subset.columns=['haplogroup_code','POSITIONnucleotidic_change']\n",
    "subset.to_csv(out_file2,sep='\\t',header=True,index=None)\n"
   ]
  },
  {
   "cell_type": "code",
   "execution_count": null,
   "metadata": {
    "collapsed": true
   },
   "outputs": [],
   "source": []
  }
 ],
 "metadata": {
  "kernelspec": {
   "display_name": "Python 2",
   "language": "python",
   "name": "python2"
  },
  "language_info": {
   "codemirror_mode": {
    "name": "ipython",
    "version": 2
   },
   "file_extension": ".py",
   "mimetype": "text/x-python",
   "name": "python",
   "nbconvert_exporter": "python",
   "pygments_lexer": "ipython2",
   "version": "2.7.10"
  }
 },
 "nbformat": 4,
 "nbformat_minor": 2
}
